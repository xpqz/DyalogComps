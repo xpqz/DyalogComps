{
 "cells": [
  {
   "cell_type": "markdown",
   "metadata": {},
   "source": [
    "# Dyalog Problem Solving Competion 2015\n",
    "\n",
    "https://www.dyalog.com/uploads/files/student_competition/2015_problems_phase1.pdf\n",
    "\n",
    "### Problem 1: Nag A Ram"
   ]
  },
  {
   "cell_type": "code",
   "execution_count": 23,
   "metadata": {},
   "outputs": [
    {
     "data": {
      "text/html": [
       "<span style=\"white-space:pre; font-family: monospace\">┌→────────────────┐\n",
       "│Was ON -style=min│\n",
       "└─────────────────┘\n",
       "</span>"
      ]
     },
     "execution_count": 23,
     "metadata": {},
     "output_type": "execute_result"
    }
   ],
   "source": [
    "]box on -style=max ⍝ Pass all output through DISPLAY"
   ]
  },
  {
   "cell_type": "code",
   "execution_count": 8,
   "metadata": {},
   "outputs": [],
   "source": [
    "]dinput\n",
    "ana←{\n",
    "    a←'([^a-z])'⎕R''⊢(819⌶)⍺   ⍝ Downcase and remove all non-letters\n",
    "    b←'([^a-z])'⎕R''⊢(819⌶)⍵\n",
    "    a[⍋a]≡b[⍋b]\n",
    "}"
   ]
  },
  {
   "cell_type": "code",
   "execution_count": 9,
   "metadata": {},
   "outputs": [
    {
     "data": {
      "text/html": [
       "<span style=\"white-space:pre; font-family: monospace\">1\n",
       "</span>"
      ]
     },
     "execution_count": 9,
     "metadata": {},
     "output_type": "execute_result"
    }
   ],
   "source": [
    "'ana gram' ana 'nagaraM'"
   ]
  },
  {
   "cell_type": "markdown",
   "metadata": {},
   "source": [
    "### Problem 2: Longest Streak"
   ]
  },
  {
   "cell_type": "code",
   "execution_count": 18,
   "metadata": {},
   "outputs": [],
   "source": [
    "longest←{⌈/≢¨v⊆v←2</,⍵}"
   ]
  },
  {
   "cell_type": "code",
   "execution_count": 19,
   "metadata": {},
   "outputs": [
    {
     "data": {
      "text/html": [
       "<span style=\"white-space:pre; font-family: monospace\">8\n",
       "</span>"
      ]
     },
     "execution_count": 19,
     "metadata": {},
     "output_type": "execute_result"
    },
    {
     "data": {
      "text/html": [
       "<span style=\"white-space:pre; font-family: monospace\">¯1.79769E308\n",
       "</span>"
      ]
     },
     "execution_count": 19,
     "metadata": {},
     "output_type": "execute_result"
    },
    {
     "data": {
      "text/html": [
       "<span style=\"white-space:pre; font-family: monospace\">¯1.79769E308\n",
       "</span>"
      ]
     },
     "execution_count": 19,
     "metadata": {},
     "output_type": "execute_result"
    },
    {
     "data": {
      "text/html": [
       "<span style=\"white-space:pre; font-family: monospace\">3\n",
       "</span>"
      ]
     },
     "execution_count": 19,
     "metadata": {},
     "output_type": "execute_result"
    }
   ],
   "source": [
    "longest 1 2 3 4 5 6 7 8 9\n",
    "longest 1\n",
    "longest 9 8 7 6 5 4\n",
    "longest 1 5 3 4 2 6 7 8"
   ]
  },
  {
   "cell_type": "markdown",
   "metadata": {},
   "source": [
    "### Problem 3: Farey Tale\n",
    "\n",
    "This is a line by line port of the Python code given in the referenced Wikipedia article. Not pretty... and very slow."
   ]
  },
  {
   "cell_type": "code",
   "execution_count": 24,
   "metadata": {},
   "outputs": [],
   "source": [
    "]dinput\n",
    "farey←{\n",
    "    n←⍵\n",
    "    (⊂0 1){\n",
    "        (a b c d)←⍵,⍨⊃¯1↑⍺\n",
    "        c>n:⍺\n",
    "        k←⌊(n+b)÷d\n",
    "        (⍺,⊂c d)∇(a-⍨k×c),b-⍨k×d\n",
    "    } 1 n\n",
    "}"
   ]
  },
  {
   "cell_type": "code",
   "execution_count": 25,
   "metadata": {},
   "outputs": [
    {
     "data": {
      "text/html": [
       "<span style=\"white-space:pre; font-family: monospace\">┌→──────────────────────────────────────────────────────────────────┐\n",
       "│ ┌→──┐ ┌→──┐ ┌→──┐ ┌→──┐ ┌→──┐ ┌→──┐ ┌→──┐ ┌→──┐ ┌→──┐ ┌→──┐ ┌→──┐ │\n",
       "│ │0 1│ │1 5│ │1 4│ │1 3│ │2 5│ │1 2│ │3 5│ │2 3│ │3 4│ │4 5│ │1 1│ │\n",
       "│ └~──┘ └~──┘ └~──┘ └~──┘ └~──┘ └~──┘ └~──┘ └~──┘ └~──┘ └~──┘ └~──┘ │\n",
       "└∊──────────────────────────────────────────────────────────────────┘\n",
       "</span>"
      ]
     },
     "execution_count": 25,
     "metadata": {},
     "output_type": "execute_result"
    }
   ],
   "source": [
    "farey 5"
   ]
  },
  {
   "cell_type": "markdown",
   "metadata": {},
   "source": [
    "After discussing this with those in the know, here's a different approach without recursion, and O(n log n):"
   ]
  },
  {
   "cell_type": "code",
   "execution_count": 27,
   "metadata": {},
   "outputs": [],
   "source": [
    "]dinput\n",
    "farey2←{\n",
    "    f←,(⊂0 1),,⍳⍵ ⍵   ⍝ all combinations concatenated together as a simple vector\n",
    "    d←÷/¨f            ⍝ determine the actual value of the fraction for sorting\n",
    "    k←(⍸d≤1)∩{⊃⍵}⌸d   ⍝ find the first occurrence of each decimal value (simplest fraction) \n",
    "                      ⍝ and see where these indices intersect the set of those decimals \n",
    "                      ⍝ less than or equal to 1 (terminating value for the Farey sequence)\n",
    "    f[k][⍋d[k]]\n",
    "}"
   ]
  },
  {
   "cell_type": "code",
   "execution_count": 28,
   "metadata": {},
   "outputs": [
    {
     "data": {
      "text/html": [
       "<span style=\"white-space:pre; font-family: monospace\">┌→──────────────────────────────────────────────────────────────────┐\n",
       "│ ┌→──┐ ┌→──┐ ┌→──┐ ┌→──┐ ┌→──┐ ┌→──┐ ┌→──┐ ┌→──┐ ┌→──┐ ┌→──┐ ┌→──┐ │\n",
       "│ │0 1│ │1 5│ │1 4│ │1 3│ │2 5│ │1 2│ │3 5│ │2 3│ │3 4│ │4 5│ │1 1│ │\n",
       "│ └~──┘ └~──┘ └~──┘ └~──┘ └~──┘ └~──┘ └~──┘ └~──┘ └~──┘ └~──┘ └~──┘ │\n",
       "└∊──────────────────────────────────────────────────────────────────┘\n",
       "</span>"
      ]
     },
     "execution_count": 28,
     "metadata": {},
     "output_type": "execute_result"
    }
   ],
   "source": [
    "farey2 5"
   ]
  },
  {
   "cell_type": "markdown",
   "metadata": {},
   "source": [
    "Which can be cut down to"
   ]
  },
  {
   "cell_type": "code",
   "execution_count": 29,
   "metadata": {},
   "outputs": [
    {
     "data": {
      "text/html": [
       "<span style=\"white-space:pre; font-family: monospace\">┌→──────────────────────────────────────────────────────────────────┐\n",
       "│ ┌→──┐ ┌→──┐ ┌→──┐ ┌→──┐ ┌→──┐ ┌→──┐ ┌→──┐ ┌→──┐ ┌→──┐ ┌→──┐ ┌→──┐ │\n",
       "│ │0 1│ │1 5│ │1 4│ │1 3│ │2 5│ │1 2│ │3 5│ │2 3│ │3 4│ │4 5│ │1 1│ │\n",
       "│ └~──┘ └~──┘ └~──┘ └~──┘ └~──┘ └~──┘ └~──┘ └~──┘ └~──┘ └~──┘ └~──┘ │\n",
       "└∊──────────────────────────────────────────────────────────────────┘\n",
       "</span>"
      ]
     },
     "execution_count": 29,
     "metadata": {},
     "output_type": "execute_result"
    }
   ],
   "source": [
    "{f[k][⍋d[k←(⍸d≤1)∩{⊃⍵}⌸d←÷/¨f←,(⊂0 1),,⍳⍵ ⍵]]} 5"
   ]
  },
  {
   "cell_type": "markdown",
   "metadata": {},
   "source": [
    "### Problem 4: PDI – Progressive Dyadic Iota"
   ]
  },
  {
   "cell_type": "code",
   "execution_count": 31,
   "metadata": {},
   "outputs": [],
   "source": [
    "]dinput\n",
    "pdi←{\n",
    "    loc←1 {\n",
    "        mat←⍵\n",
    "        ⍺>≢mat:⍵\n",
    "        mat[⍺;]←row←<\\mat[⍺;]             ⍝ Blank the row (turn 1s to 0s) after the first 1\n",
    "        (⍺+1)∇mat⊣mat[;⍸row]←<⍀mat[;⍸row] ⍝ Blank the col (turn 1s to 0s) after the first 1, recurse to next row\n",
    "    } ⍵∘.⍷⍺                               ⍝ Matrix of all positions of ⍵ in ⍺\n",
    "    2⌷[2]↑⍸loc,~∨/loc                     ⍝ Add an extra col with 1s for rows of all 0, then use ⍸ to find locs.\n",
    "}"
   ]
  },
  {
   "cell_type": "code",
   "execution_count": 34,
   "metadata": {},
   "outputs": [
    {
     "data": {
      "text/html": [
       "<span style=\"white-space:pre; font-family: monospace\">┌→────────────────┐\n",
       "│3 8 11 4 10 11 11│\n",
       "└~────────────────┘\n",
       "</span>"
      ]
     },
     "execution_count": 34,
     "metadata": {},
     "output_type": "execute_result"
    },
    {
     "data": {
      "text/html": [
       "<span style=\"white-space:pre; font-family: monospace\">┌→──────┐\n",
       "│1 1 1 1│\n",
       "└~──────┘\n",
       "</span>"
      ]
     },
     "execution_count": 34,
     "metadata": {},
     "output_type": "execute_result"
    },
    {
     "data": {
      "text/html": [
       "<span style=\"white-space:pre; font-family: monospace\"> \n",
       "1\n",
       " \n",
       "</span>"
      ]
     },
     "execution_count": 34,
     "metadata": {},
     "output_type": "execute_result"
    }
   ],
   "source": [
    "'DYALOG APL' pdi 'AAALLLB'\n",
    "'' pdi 'test'\n",
    "⍬≡'test' pdi ''"
   ]
  },
  {
   "cell_type": "markdown",
   "metadata": {},
   "source": [
    "### Problem 5: He's so mean, he has no standard deviation."
   ]
  },
  {
   "cell_type": "code",
   "execution_count": 37,
   "metadata": {},
   "outputs": [],
   "source": [
    "stddev←{0.5*⍨(+/2*⍨d-(+/÷≢)d)÷≢d←,⍵}"
   ]
  },
  {
   "cell_type": "code",
   "execution_count": 38,
   "metadata": {},
   "outputs": [
    {
     "data": {
      "text/html": [
       "<span style=\"white-space:pre; font-family: monospace\">       \n",
       "28.8661\n",
       "       \n",
       "</span>"
      ]
     },
     "execution_count": 38,
     "metadata": {},
     "output_type": "execute_result"
    }
   ],
   "source": [
    "stddev 10 10⍴⍳100"
   ]
  },
  {
   "cell_type": "markdown",
   "metadata": {},
   "source": [
    "### Problem 6: Hey! This is My Space"
   ]
  },
  {
   "cell_type": "code",
   "execution_count": 2,
   "metadata": {},
   "outputs": [],
   "source": [
    "]dinput\n",
    "overlap←{\n",
    "    corners←{   ⍝ Fill in the missing corners, given a diagonal, and sort\n",
    "        mat←↑⍵\n",
    "        mat⍪←↑(⊂⌽b),⊂b←mat[1;2],mat[2;1]\n",
    "        mat[⍋mat;]\n",
    "    }\n",
    "    r1←corners ⍺ ⋄ r2←corners ⍵\n",
    "    test←4↑points[⍋points←r1⍪r2;] ⍝ Sort all 8 corner points and pick first four\n",
    "    (test≢r1)∧(test≢r2)           ⍝ If not all four points are from the same rect, we overlap\n",
    "}"
   ]
  },
  {
   "cell_type": "code",
   "execution_count": 3,
   "metadata": {},
   "outputs": [
    {
     "data": {
      "text/html": [
       "<span style=\"white-space:pre; font-family: monospace\">1\n",
       "</span>"
      ]
     },
     "execution_count": 3,
     "metadata": {},
     "output_type": "execute_result"
    },
    {
     "data": {
      "text/html": [
       "<span style=\"white-space:pre; font-family: monospace\">0\n",
       "</span>"
      ]
     },
     "execution_count": 3,
     "metadata": {},
     "output_type": "execute_result"
    },
    {
     "data": {
      "text/html": [
       "<span style=\"white-space:pre; font-family: monospace\">1\n",
       "</span>"
      ]
     },
     "execution_count": 3,
     "metadata": {},
     "output_type": "execute_result"
    }
   ],
   "source": [
    "(1 1)(5 5)overlap(3 3)(7 7)\n",
    "(1 1)(3 3)overlap(4 4)(7 7)\n",
    "(1.1 1.1)(5.5 5.5)overlap (3.3 3.3)(4.4 4.4)"
   ]
  },
  {
   "cell_type": "markdown",
   "metadata": {},
   "source": [
    "### Problem 7: Just In (Upper) Case"
   ]
  },
  {
   "cell_type": "code",
   "execution_count": 4,
   "metadata": {},
   "outputs": [],
   "source": [
    "ucf←{⊃('.+' ⎕S '\\u0')⍵}\n",
    "nocase←{(⍺⍺ ⍺) ⍵⍵ ⍵}"
   ]
  },
  {
   "cell_type": "code",
   "execution_count": 6,
   "metadata": {},
   "outputs": [
    {
     "data": {
      "text/html": [
       "<span style=\"white-space:pre; font-family: monospace\">3 7 4\n",
       "</span>"
      ]
     },
     "execution_count": 6,
     "metadata": {},
     "output_type": "execute_result"
    },
    {
     "data": {
      "text/html": [
       "<span style=\"white-space:pre; font-family: monospace\">0 1 1 1 0 1 0\n",
       "</span>"
      ]
     },
     "execution_count": 6,
     "metadata": {},
     "output_type": "execute_result"
    }
   ],
   "source": [
    "'dyalog' (ucf nocase ⍳) 'APL'\n",
    "'bramley' (ucf nocase ∊) 'HAMPSHIRE'"
   ]
  },
  {
   "cell_type": "markdown",
   "metadata": {},
   "source": [
    "### Problem 8: Unlucky 13"
   ]
  },
  {
   "cell_type": "code",
   "execution_count": 7,
   "metadata": {},
   "outputs": [],
   "source": [
    "no13←{(12.99@{⍵=13}¨)⍵}"
   ]
  },
  {
   "cell_type": "code",
   "execution_count": 11,
   "metadata": {},
   "outputs": [
    {
     "data": {
      "text/html": [
       "<span style=\"white-space:pre; font-family: monospace\">12.99\n",
       "</span>"
      ]
     },
     "execution_count": 11,
     "metadata": {},
     "output_type": "execute_result"
    },
    {
     "data": {
      "text/html": [
       "<span style=\"white-space:pre; font-family: monospace\">1 2 3 4 5 6 7 8 9 10 11 12 12.99 14 15\n",
       "</span>"
      ]
     },
     "execution_count": 11,
     "metadata": {},
     "output_type": "execute_result"
    },
    {
     "data": {
      "text/html": [
       "<span style=\"white-space:pre; font-family: monospace\">11 12 12.99 14 15\n",
       "</span>"
      ]
     },
     "execution_count": 11,
     "metadata": {},
     "output_type": "execute_result"
    },
    {
     "data": {
      "text/html": [
       "<span style=\"white-space:pre; font-family: monospace\">130 13.13 1300\n",
       "</span>"
      ]
     },
     "execution_count": 11,
     "metadata": {},
     "output_type": "execute_result"
    }
   ],
   "source": [
    "no13 13\n",
    "no13 ⍳15\n",
    "no13 6+5 6 7 8 9\n",
    "no13 130 13.13 1300"
   ]
  },
  {
   "cell_type": "markdown",
   "metadata": {},
   "source": [
    " ### Problem 9: I'd Like Mine Scrambled Please"
   ]
  },
  {
   "cell_type": "code",
   "execution_count": 15,
   "metadata": {},
   "outputs": [],
   "source": [
    "scramble←{3>≢⍵:⍵ ⋄ (1↑⍵),m[(≢?≢)m←¯1↓1↓⍵],¯1↑⍵} ⍝ Segment into first, middle, last. Scramble middle, reassemble."
   ]
  },
  {
   "cell_type": "code",
   "execution_count": 13,
   "metadata": {},
   "outputs": [
    {
     "data": {
      "text/html": [
       "<span style=\"white-space:pre; font-family: monospace\">amrnegut\n",
       "</span>"
      ]
     },
     "execution_count": 13,
     "metadata": {},
     "output_type": "execute_result"
    },
    {
     "data": {
      "text/html": [
       "<span style=\"white-space:pre; font-family: monospace\">┌────┬──┬───────┐\n",
       "│this│is│aswomee│\n",
       "└────┴──┴───────┘\n",
       "</span>"
      ]
     },
     "execution_count": 13,
     "metadata": {},
     "output_type": "execute_result"
    }
   ],
   "source": [
    "scramble 'argument'\n",
    "scramble ¨ 'this' 'is' 'awesome'"
   ]
  },
  {
   "cell_type": "code",
   "execution_count": null,
   "metadata": {},
   "outputs": [],
   "source": []
  }
 ],
 "metadata": {
  "kernelspec": {
   "display_name": "Dyalog APL",
   "language": "apl",
   "name": "dyalog-kernel"
  },
  "language_info": {
   "file_extension": ".apl",
   "mimetype": "text/apl",
   "name": "APL"
  }
 },
 "nbformat": 4,
 "nbformat_minor": 2
}
