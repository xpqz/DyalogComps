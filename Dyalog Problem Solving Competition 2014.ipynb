{
 "cells": [
  {
   "cell_type": "markdown",
   "metadata": {},
   "source": [
    "## Dyalog Problem Solving Competion 2014\n",
    "\n",
    "https://www.dyalog.com/uploads/files/student_competition/2014_problems_phase1.pdf\n",
    "\n",
    "### Problem 1: It's all right"
   ]
  },
  {
   "cell_type": "code",
   "execution_count": 27,
   "metadata": {},
   "outputs": [
    {
     "data": {
      "text/html": [
       "<span style=\"white-space:pre; font-family: monospace\">┌→────────────────┐\n",
       "│Was ON -style=min│\n",
       "└─────────────────┘\n",
       "</span>"
      ]
     },
     "execution_count": 27,
     "metadata": {},
     "output_type": "execute_result"
    }
   ],
   "source": [
    "]box on -style=max ⍝ Pass all output through DISPLAY"
   ]
  },
  {
   "cell_type": "code",
   "execution_count": 3,
   "metadata": {},
   "outputs": [],
   "source": [
    "tri←{(⍵*2)=+/⍺*2}"
   ]
  },
  {
   "cell_type": "code",
   "execution_count": 6,
   "metadata": {},
   "outputs": [
    {
     "data": {
      "text/html": [
       "<span style=\"white-space:pre; font-family: monospace\">1\n",
       "</span>"
      ]
     },
     "execution_count": 6,
     "metadata": {},
     "output_type": "execute_result"
    }
   ],
   "source": [
    "3 4 tri 5"
   ]
  },
  {
   "cell_type": "markdown",
   "metadata": {},
   "source": [
    "### Problem 2: How tweet it is"
   ]
  },
  {
   "cell_type": "code",
   "execution_count": 7,
   "metadata": {},
   "outputs": [],
   "source": [
    "remv←{'\\B[AEIOUaeiou]\\B'⎕R'' ⊢ ⍵}"
   ]
  },
  {
   "cell_type": "code",
   "execution_count": 9,
   "metadata": {},
   "outputs": [
    {
     "data": {
      "text/html": [
       "<span style=\"white-space:pre; font-family: monospace\">APL is RLLY cl\n",
       "</span>"
      ]
     },
     "execution_count": 9,
     "metadata": {},
     "output_type": "execute_result"
    },
    {
     "data": {
      "text/html": [
       "<span style=\"white-space:pre; font-family: monospace\">a\n",
       "</span>"
      ]
     },
     "execution_count": 9,
     "metadata": {},
     "output_type": "execute_result"
    }
   ],
   "source": [
    "remv 'APL is REALLY cool'\n",
    "remv 'a'"
   ]
  },
  {
   "cell_type": "markdown",
   "metadata": {},
   "source": [
    "### Problem 3: Tell a Fib"
   ]
  },
  {
   "cell_type": "code",
   "execution_count": 22,
   "metadata": {},
   "outputs": [],
   "source": [
    "fib←{0=⍵:⍬⋄({⍵,+/¯2↑⍵}⍣(⍵-1)) 1}"
   ]
  },
  {
   "cell_type": "code",
   "execution_count": 24,
   "metadata": {},
   "outputs": [
    {
     "data": {
      "text/html": [
       "<span style=\"white-space:pre; font-family: monospace\">1\n",
       "</span>"
      ]
     },
     "execution_count": 24,
     "metadata": {},
     "output_type": "execute_result"
    }
   ],
   "source": [
    "fib 1"
   ]
  },
  {
   "cell_type": "markdown",
   "metadata": {},
   "source": [
    "### Problem 4: Space - the final frontier"
   ]
  },
  {
   "cell_type": "markdown",
   "metadata": {},
   "source": [
    "This probably wasn't the intention, but <3 regex. "
   ]
  },
  {
   "cell_type": "code",
   "execution_count": 43,
   "metadata": {},
   "outputs": [],
   "source": [
    "rems←{'^\\s+|\\s+$|\\s+(?=\\s)'⎕R''⊢⍵}"
   ]
  },
  {
   "cell_type": "code",
   "execution_count": 44,
   "metadata": {},
   "outputs": [
    {
     "data": {
      "text/html": [
       "<span style=\"white-space:pre; font-family: monospace\">┌→─────────────┐\n",
       "│this is a test│\n",
       "└──────────────┘\n",
       "</span>"
      ]
     },
     "execution_count": 44,
     "metadata": {},
     "output_type": "execute_result"
    }
   ],
   "source": [
    "rems '  this  is a   test  '"
   ]
  },
  {
   "cell_type": "markdown",
   "metadata": {},
   "source": [
    "### Problem 5: Mirror Mirror\n",
    "\n",
    "Ok, we're on a regex roll now."
   ]
  },
  {
   "cell_type": "code",
   "execution_count": 37,
   "metadata": {},
   "outputs": [],
   "source": [
    "mirror←{l≡⌽l←'\\W'⎕R''⊢⍵}"
   ]
  },
  {
   "cell_type": "code",
   "execution_count": 38,
   "metadata": {},
   "outputs": [
    {
     "data": {
      "text/html": [
       "<span style=\"white-space:pre; font-family: monospace\"> \n",
       "1\n",
       " \n",
       "</span>"
      ]
     },
     "execution_count": 38,
     "metadata": {},
     "output_type": "execute_result"
    }
   ],
   "source": [
    "mirror 'a man, a plan, a canal, panama!'"
   ]
  },
  {
   "cell_type": "markdown",
   "metadata": {},
   "source": [
    "### Problem 6: Roll the dice"
   ]
  },
  {
   "cell_type": "code",
   "execution_count": 61,
   "metadata": {},
   "outputs": [],
   "source": [
    "]dinput\n",
    "dice←{\n",
    "    0∊⍴⍵:0 2⍴⍵             ⍝ zero zero-sided dice; dubiously special-cased.\n",
    "    {⍺,≢⍵}⌸ (⍳1↑⍵) {\n",
    "        0=≢⍵:⍺\n",
    "        (,⍺∘.+(⍳1⊃⍵))∇1↓⍵\n",
    "    }1↓⍵\n",
    "}"
   ]
  },
  {
   "cell_type": "code",
   "execution_count": 62,
   "metadata": {},
   "outputs": [
    {
     "data": {
      "text/html": [
       "<span style=\"white-space:pre; font-family: monospace\">┌→────┐\n",
       "↓ 3  1│\n",
       "│ 4  3│\n",
       "│ 5  6│\n",
       "│ 6 10│\n",
       "│ 7 15│\n",
       "│ 8 21│\n",
       "│ 9 25│\n",
       "│10 27│\n",
       "│11 27│\n",
       "│12 25│\n",
       "│13 21│\n",
       "│14 15│\n",
       "│15 10│\n",
       "│16  6│\n",
       "│17  3│\n",
       "│18  1│\n",
       "└~────┘\n",
       "</span>"
      ]
     },
     "execution_count": 62,
     "metadata": {},
     "output_type": "execute_result"
    },
    {
     "data": {
      "text/html": [
       "<span style=\"white-space:pre; font-family: monospace\">┌→───┐\n",
       "↓ 2 1│\n",
       "│ 3 2│\n",
       "│ 4 3│\n",
       "│ 5 4│\n",
       "│ 6 4│\n",
       "│ 7 4│\n",
       "│ 8 3│\n",
       "│ 9 2│\n",
       "│10 1│\n",
       "└~───┘\n",
       "</span>"
      ]
     },
     "execution_count": 62,
     "metadata": {},
     "output_type": "execute_result"
    },
    {
     "data": {
      "text/html": [
       "<span style=\"white-space:pre; font-family: monospace\">┌→──┐\n",
       "↓1 1│\n",
       "│2 1│\n",
       "│3 1│\n",
       "│4 1│\n",
       "│5 1│\n",
       "│6 1│\n",
       "└~──┘\n",
       "</span>"
      ]
     },
     "execution_count": 62,
     "metadata": {},
     "output_type": "execute_result"
    },
    {
     "data": {
      "text/html": [
       "<span style=\"white-space:pre; font-family: monospace\">┌→──┐\n",
       "⌽0 0│\n",
       "└~──┘\n",
       "</span>"
      ]
     },
     "execution_count": 62,
     "metadata": {},
     "output_type": "execute_result"
    }
   ],
   "source": [
    "dice 6 6 6\n",
    "dice 4 6\n",
    "dice 6\n",
    "dice ⍬"
   ]
  },
  {
   "cell_type": "markdown",
   "metadata": {},
   "source": [
    "A more succinct solution, from The APL Orchard Gods, without need for ⍬ special case:"
   ]
  },
  {
   "cell_type": "code",
   "execution_count": 66,
   "metadata": {},
   "outputs": [],
   "source": [
    "dice2←{,∘≢⌸,+/↑,¨⍳⍵}  ⍝ Note that the tacit ,∘≢⌸ is the same as {⍺,≢⍵}⌸"
   ]
  },
  {
   "cell_type": "code",
   "execution_count": 67,
   "metadata": {},
   "outputs": [
    {
     "data": {
      "text/html": [
       "<span style=\"white-space:pre; font-family: monospace\">┌→────┐\n",
       "↓ 3  1│\n",
       "│ 4  3│\n",
       "│ 5  6│\n",
       "│ 6 10│\n",
       "│ 7 15│\n",
       "│ 8 21│\n",
       "│ 9 25│\n",
       "│10 27│\n",
       "│11 27│\n",
       "│12 25│\n",
       "│13 21│\n",
       "│14 15│\n",
       "│15 10│\n",
       "│16  6│\n",
       "│17  3│\n",
       "│18  1│\n",
       "└~────┘\n",
       "</span>"
      ]
     },
     "execution_count": 67,
     "metadata": {},
     "output_type": "execute_result"
    },
    {
     "data": {
      "text/html": [
       "<span style=\"white-space:pre; font-family: monospace\">┌→───┐\n",
       "↓ 2 1│\n",
       "│ 3 2│\n",
       "│ 4 3│\n",
       "│ 5 4│\n",
       "│ 6 4│\n",
       "│ 7 4│\n",
       "│ 8 3│\n",
       "│ 9 2│\n",
       "│10 1│\n",
       "└~───┘\n",
       "</span>"
      ]
     },
     "execution_count": 67,
     "metadata": {},
     "output_type": "execute_result"
    },
    {
     "data": {
      "text/html": [
       "<span style=\"white-space:pre; font-family: monospace\">┌→──┐\n",
       "↓1 1│\n",
       "│2 1│\n",
       "│3 1│\n",
       "│4 1│\n",
       "│5 1│\n",
       "│6 1│\n",
       "└~──┘\n",
       "</span>"
      ]
     },
     "execution_count": 67,
     "metadata": {},
     "output_type": "execute_result"
    },
    {
     "data": {
      "text/html": [
       "<span style=\"white-space:pre; font-family: monospace\">┌→──┐\n",
       "↓0 1│\n",
       "└~──┘\n",
       "</span>"
      ]
     },
     "execution_count": 67,
     "metadata": {},
     "output_type": "execute_result"
    }
   ],
   "source": [
    "dice2 6 6 6\n",
    "dice2 4 6\n",
    "dice2 6\n",
    "dice2 ⍬"
   ]
  },
  {
   "cell_type": "markdown",
   "metadata": {},
   "source": [
    "### Problem 7: Revolutionary thinking"
   ]
  },
  {
   "cell_type": "markdown",
   "metadata": {},
   "source": [
    "### Problem 8: Go the distance"
   ]
  },
  {
   "cell_type": "code",
   "execution_count": 69,
   "metadata": {},
   "outputs": [],
   "source": [
    "⍝ Standard pythagorean formula\n",
    "⍝ If ⍺ is x0 y0 and ⍵ is x1 y1\n",
    "⍝ Make a matrix\n",
    "⍝ \n",
    "⍝   x0 y0\n",
    "⍝   x1 y1\n",
    "⍝ \n",
    "⍝ and subtract row 2 from row 1:\n",
    "⍝\n",
    "⍝ -⌿⍺,[0.5]⍵ producing a vector.\n",
    "⍝ \n",
    "⍝ Square each element: (-⌿⍺,[0.5]⍵)*2, but selfied to save on brackets.\n",
    "⍝ Sum and square-root.\n",
    "dist←{0.5*⍨+/2*⍨-⌿⍺,[0.5]⍵}"
   ]
  },
  {
   "cell_type": "code",
   "execution_count": 70,
   "metadata": {},
   "outputs": [
    {
     "data": {
      "text/html": [
       "<span style=\"white-space:pre; font-family: monospace\"> \n",
       "5\n",
       " \n",
       "</span>"
      ]
     },
     "execution_count": 70,
     "metadata": {},
     "output_type": "execute_result"
    },
    {
     "data": {
      "text/html": [
       "<span style=\"white-space:pre; font-family: monospace\"> \n",
       "3\n",
       " \n",
       "</span>"
      ]
     },
     "execution_count": 70,
     "metadata": {},
     "output_type": "execute_result"
    },
    {
     "data": {
      "text/html": [
       "<span style=\"white-space:pre; font-family: monospace\"> \n",
       "0\n",
       " \n",
       "</span>"
      ]
     },
     "execution_count": 70,
     "metadata": {},
     "output_type": "execute_result"
    },
    {
     "data": {
      "text/html": [
       "<span style=\"white-space:pre; font-family: monospace\">  \n",
       "10\n",
       "  \n",
       "</span>"
      ]
     },
     "execution_count": 70,
     "metadata": {},
     "output_type": "execute_result"
    }
   ],
   "source": [
    "2 2 dist 5 6\n",
    "2 dist 5\n",
    "⍬ dist ⍬\n",
    "2 2 3 4 dist 3 7 10 9"
   ]
  },
  {
   "cell_type": "markdown",
   "metadata": {},
   "source": [
    "### Problem 9: Going ballistic"
   ]
  },
  {
   "cell_type": "code",
   "execution_count": 75,
   "metadata": {},
   "outputs": [],
   "source": [
    "bal←{9.8÷⍨(⍺*2)×1○2×○⍵÷180}"
   ]
  },
  {
   "cell_type": "code",
   "execution_count": 76,
   "metadata": {},
   "outputs": [
    {
     "data": {
      "text/html": [
       "<span style=\"white-space:pre; font-family: monospace\">       \n",
       "1020.41\n",
       "       \n",
       "</span>"
      ]
     },
     "execution_count": 76,
     "metadata": {},
     "output_type": "execute_result"
    },
    {
     "data": {
      "text/html": [
       "<span style=\"white-space:pre; font-family: monospace\"> \n",
       "0\n",
       " \n",
       "</span>"
      ]
     },
     "execution_count": 76,
     "metadata": {},
     "output_type": "execute_result"
    },
    {
     "data": {
      "text/html": [
       "<span style=\"white-space:pre; font-family: monospace\">           \n",
       "1.24964E¯13\n",
       "           \n",
       "</span>"
      ]
     },
     "execution_count": 76,
     "metadata": {},
     "output_type": "execute_result"
    }
   ],
   "source": [
    "100 bal 45\n",
    "0 bal 45\n",
    "100 bal 90"
   ]
  },
  {
   "cell_type": "markdown",
   "metadata": {},
   "source": [
    "### Problem 10: Sales are up, aren't they?"
   ]
  },
  {
   "cell_type": "code",
   "execution_count": 84,
   "metadata": {},
   "outputs": [],
   "source": [
    "inc←{100×⌈/2(-⍨÷⊣)/⍵}  ⍝ A windowed reduce of length 2. Tacit is {(a-⍨⍵)÷⍺}"
   ]
  },
  {
   "cell_type": "code",
   "execution_count": 83,
   "metadata": {},
   "outputs": [
    {
     "data": {
      "text/html": [
       "<span style=\"white-space:pre; font-family: monospace\">       \n",
       "11.7647\n",
       "       \n",
       "</span>"
      ]
     },
     "execution_count": 83,
     "metadata": {},
     "output_type": "execute_result"
    }
   ],
   "source": [
    "inc 101 102 114 117 101 110 102 111 118 115 124 122"
   ]
  },
  {
   "cell_type": "code",
   "execution_count": null,
   "metadata": {},
   "outputs": [],
   "source": []
  }
 ],
 "metadata": {
  "kernelspec": {
   "display_name": "Dyalog APL",
   "language": "apl",
   "name": "dyalog-kernel"
  },
  "language_info": {
   "file_extension": ".apl",
   "mimetype": "text/apl",
   "name": "APL"
  }
 },
 "nbformat": 4,
 "nbformat_minor": 2
}
